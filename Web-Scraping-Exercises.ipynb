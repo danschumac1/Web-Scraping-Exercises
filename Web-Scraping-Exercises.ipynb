{
 "cells": [
  {
   "cell_type": "markdown",
   "metadata": {},
   "source": [
    "___\n",
    "\n",
    "<a href='https://www.udemy.com/user/joseportilla/'><img src='../Pierian_Data_Logo.png'/></a>\n",
    "___\n",
    "<center><em>Content Copyright by Pierian Data</em></center>"
   ]
  },
  {
   "cell_type": "markdown",
   "metadata": {},
   "source": [
    "# Web Scraping Exercises \n",
    "\n",
    "## Complete the Tasks Below"
   ]
  },
  {
   "cell_type": "markdown",
   "metadata": {},
   "source": [
    "**TASK: Import any libraries you think you'll need to scrape a website.**"
   ]
  },
  {
   "cell_type": "code",
   "execution_count": 2,
   "metadata": {},
   "outputs": [],
   "source": [
    "import requests"
   ]
  },
  {
   "cell_type": "code",
   "execution_count": 3,
   "metadata": {},
   "outputs": [],
   "source": [
    "import bs4"
   ]
  },
  {
   "cell_type": "code",
   "execution_count": 4,
   "metadata": {},
   "outputs": [],
   "source": [
    "import re"
   ]
  },
  {
   "cell_type": "markdown",
   "metadata": {},
   "source": [
    "**TASK: Use requests library and BeautifulSoup to connect to http://quotes.toscrape.com/ and get the HMTL text from the homepage.**"
   ]
  },
  {
   "cell_type": "code",
   "execution_count": 5,
   "metadata": {},
   "outputs": [],
   "source": [
    "result = requests.get('http://quotes.toscrape.com/')"
   ]
  },
  {
   "cell_type": "code",
   "execution_count": 6,
   "metadata": {},
   "outputs": [
    {
     "data": {
      "text/plain": [
       "requests.models.Response"
      ]
     },
     "execution_count": 6,
     "metadata": {},
     "output_type": "execute_result"
    }
   ],
   "source": [
    "type(result)"
   ]
  },
  {
   "cell_type": "code",
   "execution_count": 7,
   "metadata": {},
   "outputs": [],
   "source": [
    "soup = bs4.BeautifulSoup(result.text,'lxml')"
   ]
  },
  {
   "cell_type": "markdown",
   "metadata": {},
   "source": [
    "**TASK: Get the names of all the authors on the first page.**"
   ]
  },
  {
   "cell_type": "code",
   "execution_count": 16,
   "metadata": {},
   "outputs": [],
   "source": [
    "author_test = soup.select('.author')"
   ]
  },
  {
   "cell_type": "code",
   "execution_count": 17,
   "metadata": {},
   "outputs": [],
   "source": [
    "\n",
    "author = author_test[0].getText()"
   ]
  },
  {
   "cell_type": "code",
   "execution_count": 18,
   "metadata": {},
   "outputs": [],
   "source": [
    "authors = soup.select('.author')"
   ]
  },
  {
   "cell_type": "code",
   "execution_count": 19,
   "metadata": {},
   "outputs": [],
   "source": [
    "# Pyrian Solution\n",
    "# authors = set()\n",
    "# for name in soup.select('.author'):\n",
    "#     authors.add(name.text)"
   ]
  },
  {
   "cell_type": "code",
   "execution_count": 21,
   "metadata": {},
   "outputs": [],
   "source": [
    "authors = soup.select('.author')\n",
    "authors_list = []\n",
    "x=0\n",
    "\n",
    "for author in authors:\n",
    "    authors_list.append(authors[x].getText())\n",
    "    authors_set= set(authors_list)\n",
    "    x+=1"
   ]
  },
  {
   "cell_type": "markdown",
   "metadata": {},
   "source": [
    "**TASK: Create a list of all the quotes on the first page.**"
   ]
  },
  {
   "cell_type": "code",
   "execution_count": 94,
   "metadata": {},
   "outputs": [],
   "source": [
    "quotes = soup.select('.quote .text')"
   ]
  },
  {
   "cell_type": "code",
   "execution_count": 96,
   "metadata": {},
   "outputs": [],
   "source": [
    "quote = quotes[0].getText()"
   ]
  },
  {
   "cell_type": "code",
   "execution_count": 97,
   "metadata": {
    "scrolled": true
   },
   "outputs": [
    {
     "data": {
      "text/plain": [
       "'“The world as we have created it is a process of our thinking. It cannot be changed without changing our thinking.”'"
      ]
     },
     "execution_count": 97,
     "metadata": {},
     "output_type": "execute_result"
    }
   ],
   "source": [
    "quote"
   ]
  },
  {
   "cell_type": "code",
   "execution_count": 23,
   "metadata": {},
   "outputs": [],
   "source": [
    "# Pyrians solution\n",
    "\n",
    "# quotes = []\n",
    "#for quote in soup.select('text'):\n",
    "   # quotes.append(quote.text)\n"
   ]
  },
  {
   "cell_type": "code",
   "execution_count": 133,
   "metadata": {},
   "outputs": [],
   "source": [
    "quote_list = []\n",
    "x=0\n",
    "quotes = soup.select('.quote .text')\n",
    "quote = quotes[x].getText()\n",
    "\n",
    "for quote in quotes:\n",
    "    quote_list.append(quotes[x].getText())\n",
    "    x+=1"
   ]
  },
  {
   "cell_type": "code",
   "execution_count": 134,
   "metadata": {
    "scrolled": true
   },
   "outputs": [
    {
     "data": {
      "text/plain": [
       "['“The world as we have created it is a process of our thinking. It cannot be changed without changing our thinking.”',\n",
       " '“It is our choices, Harry, that show what we truly are, far more than our abilities.”',\n",
       " '“There are only two ways to live your life. One is as though nothing is a miracle. The other is as though everything is a miracle.”',\n",
       " '“The person, be it gentleman or lady, who has not pleasure in a good novel, must be intolerably stupid.”',\n",
       " \"“Imperfection is beauty, madness is genius and it's better to be absolutely ridiculous than absolutely boring.”\",\n",
       " '“Try not to become a man of success. Rather become a man of value.”',\n",
       " '“It is better to be hated for what you are than to be loved for what you are not.”',\n",
       " \"“I have not failed. I've just found 10,000 ways that won't work.”\",\n",
       " \"“A woman is like a tea bag; you never know how strong it is until it's in hot water.”\",\n",
       " '“A day without sunshine is like, you know, night.”']"
      ]
     },
     "execution_count": 134,
     "metadata": {},
     "output_type": "execute_result"
    }
   ],
   "source": [
    "quote_list"
   ]
  },
  {
   "cell_type": "markdown",
   "metadata": {},
   "source": [
    "**TASK: Inspect the site and use Beautiful Soup to extract the top ten tags from the requests text shown on the top right from the home page (e.g Love,Inspirational,Life, etc...). HINT: Keep in mind there are also tags underneath each quote, try to find a class only present in the top right tags, perhaps check the span.**"
   ]
  },
  {
   "cell_type": "code",
   "execution_count": 120,
   "metadata": {},
   "outputs": [],
   "source": [
    "ten_tags = soup.select('.tag-item')"
   ]
  },
  {
   "cell_type": "code",
   "execution_count": 121,
   "metadata": {
    "scrolled": true
   },
   "outputs": [
    {
     "data": {
      "text/plain": [
       "[<span class=\"tag-item\">\n",
       " <a class=\"tag\" href=\"/tag/love/\" style=\"font-size: 28px\">love</a>\n",
       " </span>,\n",
       " <span class=\"tag-item\">\n",
       " <a class=\"tag\" href=\"/tag/inspirational/\" style=\"font-size: 26px\">inspirational</a>\n",
       " </span>,\n",
       " <span class=\"tag-item\">\n",
       " <a class=\"tag\" href=\"/tag/life/\" style=\"font-size: 26px\">life</a>\n",
       " </span>,\n",
       " <span class=\"tag-item\">\n",
       " <a class=\"tag\" href=\"/tag/humor/\" style=\"font-size: 24px\">humor</a>\n",
       " </span>,\n",
       " <span class=\"tag-item\">\n",
       " <a class=\"tag\" href=\"/tag/books/\" style=\"font-size: 22px\">books</a>\n",
       " </span>,\n",
       " <span class=\"tag-item\">\n",
       " <a class=\"tag\" href=\"/tag/reading/\" style=\"font-size: 14px\">reading</a>\n",
       " </span>,\n",
       " <span class=\"tag-item\">\n",
       " <a class=\"tag\" href=\"/tag/friendship/\" style=\"font-size: 10px\">friendship</a>\n",
       " </span>,\n",
       " <span class=\"tag-item\">\n",
       " <a class=\"tag\" href=\"/tag/friends/\" style=\"font-size: 8px\">friends</a>\n",
       " </span>,\n",
       " <span class=\"tag-item\">\n",
       " <a class=\"tag\" href=\"/tag/truth/\" style=\"font-size: 8px\">truth</a>\n",
       " </span>,\n",
       " <span class=\"tag-item\">\n",
       " <a class=\"tag\" href=\"/tag/simile/\" style=\"font-size: 6px\">simile</a>\n",
       " </span>]"
      ]
     },
     "execution_count": 121,
     "metadata": {},
     "output_type": "execute_result"
    }
   ],
   "source": [
    "ten_tag "
   ]
  },
  {
   "cell_type": "code",
   "execution_count": 25,
   "metadata": {},
   "outputs": [],
   "source": [
    "#pyrian solution\n",
    "\n",
    "# for item in soup.select('.tag-item'):\n",
    "  #   print (item.text)"
   ]
  },
  {
   "cell_type": "code",
   "execution_count": 141,
   "metadata": {},
   "outputs": [],
   "source": [
    "tag_list = ''\n",
    "x=0\n",
    "tags = soup.select('.tag-item')\n",
    "tag = tags[x].getText()\n",
    "\n",
    "for tag in tags:\n",
    "    tag_list+=(tags[x].getText())\n",
    "    x+=1"
   ]
  },
  {
   "cell_type": "code",
   "execution_count": 143,
   "metadata": {
    "scrolled": true
   },
   "outputs": [
    {
     "name": "stdout",
     "output_type": "stream",
     "text": [
      "\n",
      "love\n",
      "\n",
      "inspirational\n",
      "\n",
      "life\n",
      "\n",
      "humor\n",
      "\n",
      "books\n",
      "\n",
      "reading\n",
      "\n",
      "friendship\n",
      "\n",
      "friends\n",
      "\n",
      "truth\n",
      "\n",
      "simile\n",
      "\n"
     ]
    }
   ],
   "source": [
    "print(tag_list)"
   ]
  },
  {
   "cell_type": "markdown",
   "metadata": {},
   "source": [
    "**TASK: Notice how there is more than one page, and subsequent pages look like this http://quotes.toscrape.com/page/2/. Use what you know about for loops and string concatenation to loop through all the pages and get all the unique authors on the website. Keep in mind there are many ways to achieve this, also note that you will need to somehow figure out how to check that your loop is on the last page with quotes. For debugging purposes, I will let you know that there are only 10 pages, so the last page is http://quotes.toscrape.com/page/10/, but try to create a loop that is robust enough that it wouldn't matter to know the amount of pages beforehand, perhaps use try/except for this, its up to you!**"
   ]
  },
  {
   "cell_type": "markdown",
   "metadata": {},
   "source": [
    "# Pyrian Solutions!"
   ]
  },
  {
   "cell_type": "code",
   "execution_count": 27,
   "metadata": {},
   "outputs": [],
   "source": [
    "#pyrian solution\n",
    "url = 'http://quotes.toscrape.com/page/'"
   ]
  },
  {
   "cell_type": "code",
   "execution_count": 31,
   "metadata": {},
   "outputs": [
    {
     "data": {
      "text/plain": [
       "'http://quotes.toscrape.com/page/10'"
      ]
     },
     "execution_count": 31,
     "metadata": {},
     "output_type": "execute_result"
    }
   ],
   "source": [
    "#pyrian solution\n",
    "\n",
    "url+str(10)"
   ]
  },
  {
   "cell_type": "code",
   "execution_count": 34,
   "metadata": {},
   "outputs": [],
   "source": [
    "# Pyrian Solution\n",
    "\n",
    "authors = set()\n",
    "\n",
    "#this works if you know how many pages you have\n",
    "for page in range(1,10):\n",
    "    page_url = url+str(page)\n",
    "    \n",
    "    res = requests.get(page_url)\n",
    "    \n",
    "    soup = bs4.BeautifulSoup(res.text, 'lxml')\n",
    "    \n",
    "    for name in soup.select('.author'):\n",
    "        authors.add(name.text)"
   ]
  },
  {
   "cell_type": "code",
   "execution_count": 35,
   "metadata": {},
   "outputs": [],
   "source": [
    "# Pyrian Solution # 2\n",
    "\n",
    "page_url = url+str(99999999)\n"
   ]
  },
  {
   "cell_type": "code",
   "execution_count": 36,
   "metadata": {},
   "outputs": [],
   "source": [
    "# Pyrian Solution # 2\n",
    "\n",
    "res= requests.get(page_url)"
   ]
  },
  {
   "cell_type": "code",
   "execution_count": 39,
   "metadata": {},
   "outputs": [],
   "source": [
    "# Pyrian Solution # 2\n",
    "\n",
    "soup = bs4.BeautifulSoup(res.text, 'lxml')"
   ]
  },
  {
   "cell_type": "code",
   "execution_count": 43,
   "metadata": {},
   "outputs": [
    {
     "data": {
      "text/plain": [
       "True"
      ]
     },
     "execution_count": 43,
     "metadata": {},
     "output_type": "execute_result"
    }
   ],
   "source": [
    "# Pyrian Solution # 2\n",
    "\n",
    "\"No quotes found!\" in res.text"
   ]
  },
  {
   "cell_type": "code",
   "execution_count": 52,
   "metadata": {},
   "outputs": [
    {
     "data": {
      "text/plain": [
       "'http://quotes.toscrape.com/page/1'"
      ]
     },
     "execution_count": 52,
     "metadata": {},
     "output_type": "execute_result"
    }
   ],
   "source": [
    "# Pyrian Solution # 2\n",
    "\n",
    "page_url"
   ]
  },
  {
   "cell_type": "code",
   "execution_count": 55,
   "metadata": {},
   "outputs": [],
   "source": [
    "# Pyrian Solution # 2\n",
    "\n",
    "page_stil_valid = True\n",
    "authors = set()\n",
    "page= 1\n",
    "\n",
    "while page_stil_valid:\n",
    "    \n",
    "    page_url = url+str(page)\n",
    "    \n",
    "    res = requests.get(page_url)\n",
    "    \n",
    "    if \"No quotes found!\" in res.text:\n",
    "        break\n",
    "    \n",
    "    soup = bs4.BeautifulSoup(res.text, 'lxml')\n",
    "    \n",
    "    for name in soup.select('.author'):\n",
    "        authors.add(name.text)\n",
    "    \n",
    "    page = page + 1"
   ]
  },
  {
   "cell_type": "code",
   "execution_count": 56,
   "metadata": {},
   "outputs": [
    {
     "data": {
      "text/plain": [
       "{'Albert Einstein',\n",
       " 'Alexandre Dumas fils',\n",
       " 'Alfred Tennyson',\n",
       " 'Allen Saunders',\n",
       " 'André Gide',\n",
       " 'Ayn Rand',\n",
       " 'Bob Marley',\n",
       " 'C.S. Lewis',\n",
       " 'Charles Bukowski',\n",
       " 'Charles M. Schulz',\n",
       " 'Douglas Adams',\n",
       " 'Dr. Seuss',\n",
       " 'E.E. Cummings',\n",
       " 'Eleanor Roosevelt',\n",
       " 'Elie Wiesel',\n",
       " 'Ernest Hemingway',\n",
       " 'Friedrich Nietzsche',\n",
       " 'Garrison Keillor',\n",
       " 'George Bernard Shaw',\n",
       " 'George Carlin',\n",
       " 'George Eliot',\n",
       " 'George R.R. Martin',\n",
       " 'Harper Lee',\n",
       " 'Haruki Murakami',\n",
       " 'Helen Keller',\n",
       " 'J.D. Salinger',\n",
       " 'J.K. Rowling',\n",
       " 'J.M. Barrie',\n",
       " 'J.R.R. Tolkien',\n",
       " 'James Baldwin',\n",
       " 'Jane Austen',\n",
       " 'Jim Henson',\n",
       " 'Jimi Hendrix',\n",
       " 'John Lennon',\n",
       " 'Jorge Luis Borges',\n",
       " 'Khaled Hosseini',\n",
       " \"Madeleine L'Engle\",\n",
       " 'Marilyn Monroe',\n",
       " 'Mark Twain',\n",
       " 'Martin Luther King Jr.',\n",
       " 'Mother Teresa',\n",
       " 'Pablo Neruda',\n",
       " 'Ralph Waldo Emerson',\n",
       " 'Stephenie Meyer',\n",
       " 'Steve Martin',\n",
       " 'Suzanne Collins',\n",
       " 'Terry Pratchett',\n",
       " 'Thomas A. Edison',\n",
       " 'W.C. Fields',\n",
       " 'William Nicholson'}"
      ]
     },
     "execution_count": 56,
     "metadata": {},
     "output_type": "execute_result"
    }
   ],
   "source": [
    "authors"
   ]
  },
  {
   "cell_type": "markdown",
   "metadata": {},
   "source": [
    "# My solutions..."
   ]
  },
  {
   "cell_type": "code",
   "execution_count": 234,
   "metadata": {},
   "outputs": [],
   "source": [
    "#this uses a simple while loop with a known number of pages\n",
    "def grab_unique_authors():\n",
    "    \n",
    "    page_num = 1\n",
    "    authors_list = []\n",
    "    \n",
    "    while page_num < 11:\n",
    "        \n",
    "        #set authors_list to blank so we can tell the viewer what is on each page\n",
    "        \n",
    "        \n",
    "        #formats the url so we can change the page number\n",
    "        base_url = f'http://quotes.toscrape.com/page/{page_num}/'\n",
    "        result = requests.get(base_url)\n",
    "        soup = bs4.BeautifulSoup(result.text, 'lxml')\n",
    "        \n",
    "        #append the authors name to the authors list\n",
    "        authors = soup.select('.author')\n",
    "        x=0\n",
    "        \n",
    "        for author in authors:\n",
    "            authors_list.append(authors[x].getText())\n",
    "            x+=1\n",
    "        \n",
    "        #cast these to a set to grab all unique authors across all pages\n",
    "        authors_set= set(authors_list)\n",
    "        \n",
    "        page_num = page_num + 1\n",
    "        \n",
    "    print(f'Pages 1 through {page_num - 1} contained the following authors:\\n')\n",
    "    for item in authors_set:\n",
    "        print(item)"
   ]
  },
  {
   "cell_type": "code",
   "execution_count": 255,
   "metadata": {},
   "outputs": [],
   "source": [
    "base_url = f'http://quotes.toscrape.com/page/11'\n",
    "result = requests.get(base_url)\n",
    "soup = bs4.BeautifulSoup(result.text, 'lxml')"
   ]
  },
  {
   "cell_type": "code",
   "execution_count": 260,
   "metadata": {},
   "outputs": [],
   "source": [
    "the_end = soup.select('.col-md-8')"
   ]
  },
  {
   "cell_type": "code",
   "execution_count": 269,
   "metadata": {},
   "outputs": [
    {
     "data": {
      "text/plain": [
       "'\\n\\nNo quotes found!\\n\\n    \\n\\n\\n← Previous\\n\\n\\n\\n'"
      ]
     },
     "execution_count": 269,
     "metadata": {},
     "output_type": "execute_result"
    }
   ],
   "source": [
    "the_end[1].getText()"
   ]
  },
  {
   "cell_type": "code",
   "execution_count": 288,
   "metadata": {},
   "outputs": [],
   "source": [
    "#robust while loop that will work with an unkown number of pages\n",
    "\n",
    "def grab_unique_authors():\n",
    "    \n",
    "    pages_exist = True\n",
    "    page_num = 1\n",
    "    authors_list = []\n",
    "    \n",
    "    while pages_exist == True:\n",
    "        \n",
    "        #formats the url so we can change the page number\n",
    "        base_url = f'http://quotes.toscrape.com/page/{page_num}/'\n",
    "        result = requests.get(base_url)\n",
    "        soup = bs4.BeautifulSoup(result.text, 'lxml')\n",
    "        \n",
    "        #append the authors name to the authors list\n",
    "        authors = soup.select('.author')\n",
    "        x=0\n",
    "\n",
    "        for author in authors:\n",
    "            authors_list.append(authors[x].getText())\n",
    "            x+=1\n",
    "\n",
    "        #cast these to a set to grab all unique authors across all pages\n",
    "        authors_set= set(authors_list)\n",
    "\n",
    "        #check to see if we have reached a blank page...\n",
    "        the_end = soup.select('.col-md-8')\n",
    "        if the_end[1].getText() == '\\n\\nNo quotes found!\\n\\n    \\n\\n\\n← Previous\\n\\n\\n\\n':\n",
    "            pages_exist = False\n",
    "            \n",
    "        page_num = page_num + 1\n",
    "\n",
    "    print(f'Pages 1 through {page_num - 2} contained the following authors:\\n')\n",
    "    for item in authors_set:\n",
    "        print(item)"
   ]
  },
  {
   "cell_type": "code",
   "execution_count": 289,
   "metadata": {
    "scrolled": false
   },
   "outputs": [
    {
     "name": "stdout",
     "output_type": "stream",
     "text": [
      "Pages 1 through 10 contained the following authors:\n",
      "\n",
      "André Gide\n",
      "Martin Luther King Jr.\n",
      "Jim Henson\n",
      "Bob Marley\n",
      "Ernest Hemingway\n",
      "George R.R. Martin\n",
      "J.M. Barrie\n",
      "Charles M. Schulz\n",
      "Khaled Hosseini\n",
      "Friedrich Nietzsche\n",
      "Helen Keller\n",
      "J.R.R. Tolkien\n",
      "Alexandre Dumas fils\n",
      "Pablo Neruda\n",
      "Allen Saunders\n",
      "Terry Pratchett\n",
      "Douglas Adams\n",
      "John Lennon\n",
      "Haruki Murakami\n",
      "Charles Bukowski\n",
      "Ayn Rand\n",
      "Thomas A. Edison\n",
      "Suzanne Collins\n",
      "James Baldwin\n",
      "Mark Twain\n",
      "Elie Wiesel\n",
      "Steve Martin\n",
      "George Carlin\n",
      "Ralph Waldo Emerson\n",
      "William Nicholson\n",
      "Jimi Hendrix\n",
      "Mother Teresa\n",
      "Garrison Keillor\n",
      "Jane Austen\n",
      "Albert Einstein\n",
      "George Eliot\n",
      "Alfred Tennyson\n",
      "Jorge Luis Borges\n",
      "Madeleine L'Engle\n",
      "Stephenie Meyer\n",
      "C.S. Lewis\n",
      "W.C. Fields\n",
      "Marilyn Monroe\n",
      "Dr. Seuss\n",
      "Harper Lee\n",
      "J.D. Salinger\n",
      "Eleanor Roosevelt\n",
      "E.E. Cummings\n",
      "George Bernard Shaw\n",
      "J.K. Rowling\n"
     ]
    }
   ],
   "source": [
    "grab_unique_authors()"
   ]
  },
  {
   "cell_type": "markdown",
   "metadata": {},
   "source": [
    "There are lots of other potential solutions that are even more robust and flexible, the main idea is the same though, use a while loop to cycle through potential pages and have a break condition based on the invalid page."
   ]
  }
 ],
 "metadata": {
  "kernelspec": {
   "display_name": "Python 3 (ipykernel)",
   "language": "python",
   "name": "python3"
  },
  "language_info": {
   "codemirror_mode": {
    "name": "ipython",
    "version": 3
   },
   "file_extension": ".py",
   "mimetype": "text/x-python",
   "name": "python",
   "nbconvert_exporter": "python",
   "pygments_lexer": "ipython3",
   "version": "3.9.12"
  }
 },
 "nbformat": 4,
 "nbformat_minor": 2
}
